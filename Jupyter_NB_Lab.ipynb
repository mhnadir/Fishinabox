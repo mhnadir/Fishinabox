{
  "metadata": {
    "language_info": {
      "codemirror_mode": {
        "name": "python",
        "version": 3
      },
      "file_extension": ".py",
      "mimetype": "text/x-python",
      "name": "python",
      "nbconvert_exporter": "python",
      "pygments_lexer": "ipython3",
      "version": "3.8"
    },
    "kernelspec": {
      "name": "python",
      "display_name": "Pyolite",
      "language": "python"
    }
  },
  "nbformat_minor": 4,
  "nbformat": 4,
  "cells": [
    {
      "cell_type": "markdown",
      "source": "# My Jupyter Notebook on Skills Network",
      "metadata": {
        "tags": []
      }
    },
    {
      "cell_type": "markdown",
      "source": "<b>Muhammad Hammad Nadir</b>  \nData Scientist",
      "metadata": {}
    },
    {
      "cell_type": "markdown",
      "source": "_I am interested in Data Science because I am a problem solver by nature. I love to solve real life problems, and I believe data science can equip me with the right tools to understand and analyze data which can help solve those problems._",
      "metadata": {}
    },
    {
      "cell_type": "markdown",
      "source": "### Next cell is used to compute the value of pi by dividing 22 by 7",
      "metadata": {}
    },
    {
      "cell_type": "code",
      "source": "22/7",
      "metadata": {
        "trusted": true
      },
      "execution_count": 2,
      "outputs": [
        {
          "execution_count": 2,
          "output_type": "execute_result",
          "data": {
            "text/plain": "3.142857142857143"
          },
          "metadata": {}
        }
      ]
    },
    {
      "cell_type": "markdown",
      "source": "___\nBullet List\n***\n- Bullet 1\n- Bullet 2\n- Bullet 3\n***\nNumber List\n***\n1. Number 1\n1. Number 2\n1. Number 3\n***\nTable\n***\n|S.No.|Item|Qty|\n|-----|----|---|\n|1.|Food|100\n|2.|Drinks|100\n***\nhttps://www.ibm.com\n___\n![](https://www.ibm.com/brand/experience-guides/developer/8f4e3cc2b5d52354a6d43c8edba1e3c9/02_8-bar-reverse.svg)\n___\n![](https://www.python.org/static/community_logos/python-logo-master-v3-TM.png)\n___\n```javascript\nvar s = \"JavaScript syntax highlighting\";\nalert(s);\n```\n \n```python\ns = \"Python syntax highlighting\"\nprint s\n```\n \n```\nNo language indicated, so no syntax highlighting. \nBut let's throw in a <b>tag</b>.\n```\n___\n> Blockquote\n___\n\n",
      "metadata": {}
    },
    {
      "cell_type": "code",
      "source": "",
      "metadata": {},
      "execution_count": null,
      "outputs": []
    }
  ]
}